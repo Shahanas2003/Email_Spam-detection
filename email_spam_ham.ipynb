{
  "nbformat": 4,
  "nbformat_minor": 0,
  "metadata": {
    "colab": {
      "provenance": []
    },
    "kernelspec": {
      "name": "python3",
      "display_name": "Python 3"
    },
    "language_info": {
      "name": "python"
    }
  },
  "cells": [
    {
      "cell_type": "code",
      "source": [
        "# *TRAIN THE SPAM DETECTION MODEL (Backend)*\n",
        "\n",
        "# Import required libraries\n",
        "import re\n",
        "import string\n",
        "import pickle\n",
        "import pandas as pd\n",
        "from sklearn.feature_extraction.text import CountVectorizer\n",
        "from sklearn.model_selection import train_test_split\n",
        "from sklearn.naive_bayes import MultinomialNB\n",
        "from sklearn.metrics import accuracy_score\n",
        "\n",
        "# 1. Load dataset\n",
        "df = pd.read_csv('/content/spam dataset.csv', encoding='latin-1')[['v1', 'v2']]\n",
        "df.columns = ['label', 'message']\n",
        "\n",
        "# 2. Encode labels (spam = 1, ham = 0)\n",
        "df[\"label\"] = df[\"label\"].map({\"spam\": 1, \"ham\": 0})\n",
        "\n",
        "# 3. Remove duplicates\n",
        "df = df.drop_duplicates()\n",
        "\n",
        "# 4. Preprocess text\n",
        "def preprocess_text(text):\n",
        "    text = text.lower()  # Convert to lowercase\n",
        "    text = re.sub(f\"[{string.punctuation}]\", \"\", text)  # Remove punctuation\n",
        "    return text\n",
        "\n",
        "df[\"cleaned_message\"] = df[\"message\"].apply(preprocess_text)\n",
        "\n",
        "# 5. Vectorize text\n",
        "vectorizer = CountVectorizer()\n",
        "X = vectorizer.fit_transform(df[\"cleaned_message\"])\n",
        "y = df[\"label\"]\n",
        "\n",
        "# 6. Train-test split\n",
        "X_train, X_test, y_train, y_test = train_test_split(X, y, test_size=0.2, random_state=42)\n",
        "\n",
        "# 7. Train Naive Bayes model\n",
        "model = MultinomialNB()\n",
        "model.fit(X_train, y_train)\n",
        "\n",
        "# 8. Evaluate\n",
        "y_pred = model.predict(X_test)\n",
        "accuracy = accuracy_score(y_test, y_pred)\n",
        "print(f\"✅ Model Accuracy: {accuracy * 100:.2f}%\")\n",
        "\n",
        "# 9. Save the model and vectorizer\n",
        "with open(\"spam_model.pkl\", \"wb\") as model_file:\n",
        "    pickle.dump(model, model_file)\n",
        "\n",
        "with open(\"vectorizer.pkl\", \"wb\") as vec_file:\n",
        "    pickle.dump(vectorizer, vec_file)\n",
        "\n",
        "print(\"✅ Model and vectorizer saved successfully.\")\n"
      ],
      "metadata": {
        "colab": {
          "base_uri": "https://localhost:8080/"
        },
        "id": "9g9LTo9gXpcK",
        "outputId": "0078bb6c-1506-4221-a31a-96beb8ff8516"
      },
      "execution_count": null,
      "outputs": [
        {
          "output_type": "stream",
          "name": "stdout",
          "text": [
            "✅ Model Accuracy: 97.87%\n",
            "✅ Model and vectorizer saved successfully.\n"
          ]
        }
      ]
    },
    {
      "cell_type": "code",
      "source": [
        "# 🛠 Create the app.py file inside Colab\n",
        "\n",
        "%%writefile app.py\n",
        "import streamlit as st\n",
        "import pickle\n",
        "import re\n",
        "import string\n",
        "\n",
        "# 1. Load model and vectorizer\n",
        "model = pickle.load(open(\"spam_model.pkl\", \"rb\"))\n",
        "vectorizer = pickle.load(open(\"vectorizer.pkl\", \"rb\"))\n",
        "\n",
        "# 2. Function to preprocess input text\n",
        "def preprocess_text(text):\n",
        "    text = text.lower()\n",
        "    text = re.sub(f\"[{string.punctuation}]\", \"\", text)\n",
        "    return text\n",
        "\n",
        "# 3. Streamlit App\n",
        "st.set_page_config(page_title=\"Spam Detection App\", page_icon=\"📩\")\n",
        "\n",
        "st.title(\"📩 Spam Detection App\")\n",
        "st.write(\"Enter your message below and I'll tell you if it's Spam or Not Spam!\")\n",
        "\n",
        "user_input = st.text_area(\"Enter a message:\")\n",
        "\n",
        "if st.button(\"Predict\"):\n",
        "    if user_input.strip() == \"\":\n",
        "        st.warning(\"⚠️ Please enter a message.\")\n",
        "    else:\n",
        "        cleaned_input = preprocess_text(user_input)\n",
        "        vectorized_input = vectorizer.transform([cleaned_input])\n",
        "        prediction = model.predict(vectorized_input)[0]\n",
        "\n",
        "        if prediction == 1:\n",
        "            st.error(\"🚨 Spam Message Detected!\")\n",
        "        else:\n",
        "            st.success(\"✅ Not a Spam Message!\")\n"
      ],
      "metadata": {
        "colab": {
          "base_uri": "https://localhost:8080/"
        },
        "id": "SuNVHz0fYjmx",
        "outputId": "f0a41ad9-1e02-482a-a056-ebc814504103"
      },
      "execution_count": null,
      "outputs": [
        {
          "output_type": "stream",
          "name": "stdout",
          "text": [
            "Writing app.py\n"
          ]
        }
      ]
    }
  ]
}
